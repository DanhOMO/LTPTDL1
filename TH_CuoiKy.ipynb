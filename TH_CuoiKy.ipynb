{
 "cells": [
  {
   "cell_type": "code",
   "execution_count": 1,
   "metadata": {},
   "outputs": [],
   "source": [
    "import pandas as pd\n",
    "import numpy as np"
   ]
  },
  {
   "cell_type": "code",
   "execution_count": 2,
   "metadata": {},
   "outputs": [
    {
     "data": {
      "text/html": [
       "<div>\n",
       "<style scoped>\n",
       "    .dataframe tbody tr th:only-of-type {\n",
       "        vertical-align: middle;\n",
       "    }\n",
       "\n",
       "    .dataframe tbody tr th {\n",
       "        vertical-align: top;\n",
       "    }\n",
       "\n",
       "    .dataframe thead th {\n",
       "        text-align: right;\n",
       "    }\n",
       "</style>\n",
       "<table border=\"1\" class=\"dataframe\">\n",
       "  <thead>\n",
       "    <tr style=\"text-align: right;\">\n",
       "      <th></th>\n",
       "      <th>CRIM</th>\n",
       "      <th>ZN</th>\n",
       "      <th>INDUS</th>\n",
       "      <th>CHAS</th>\n",
       "      <th>NOX</th>\n",
       "      <th>RM</th>\n",
       "      <th>AGE</th>\n",
       "      <th>DIS</th>\n",
       "      <th>RAD</th>\n",
       "      <th>TAX</th>\n",
       "      <th>PTRATIO</th>\n",
       "      <th>B</th>\n",
       "      <th>LSTAT</th>\n",
       "      <th>MEDV</th>\n",
       "    </tr>\n",
       "  </thead>\n",
       "  <tbody>\n",
       "    <tr>\n",
       "      <th>0</th>\n",
       "      <td>0.00632</td>\n",
       "      <td>18.0</td>\n",
       "      <td>2.31</td>\n",
       "      <td>0</td>\n",
       "      <td>0.538</td>\n",
       "      <td>6.575</td>\n",
       "      <td>65.2</td>\n",
       "      <td>4.0900</td>\n",
       "      <td>1</td>\n",
       "      <td>296.0</td>\n",
       "      <td>15.3</td>\n",
       "      <td>396.90</td>\n",
       "      <td>4.98</td>\n",
       "      <td>24.0</td>\n",
       "    </tr>\n",
       "    <tr>\n",
       "      <th>1</th>\n",
       "      <td>0.02731</td>\n",
       "      <td>0.0</td>\n",
       "      <td>7.07</td>\n",
       "      <td>0</td>\n",
       "      <td>0.469</td>\n",
       "      <td>6.421</td>\n",
       "      <td>78.9</td>\n",
       "      <td>4.9671</td>\n",
       "      <td>2</td>\n",
       "      <td>242.0</td>\n",
       "      <td>17.8</td>\n",
       "      <td>396.90</td>\n",
       "      <td>9.14</td>\n",
       "      <td>21.6</td>\n",
       "    </tr>\n",
       "    <tr>\n",
       "      <th>2</th>\n",
       "      <td>0.02729</td>\n",
       "      <td>0.0</td>\n",
       "      <td>7.07</td>\n",
       "      <td>0</td>\n",
       "      <td>0.469</td>\n",
       "      <td>7.185</td>\n",
       "      <td>61.1</td>\n",
       "      <td>4.9671</td>\n",
       "      <td>2</td>\n",
       "      <td>242.0</td>\n",
       "      <td>17.8</td>\n",
       "      <td>392.83</td>\n",
       "      <td>4.03</td>\n",
       "      <td>34.7</td>\n",
       "    </tr>\n",
       "    <tr>\n",
       "      <th>3</th>\n",
       "      <td>0.03237</td>\n",
       "      <td>0.0</td>\n",
       "      <td>2.18</td>\n",
       "      <td>0</td>\n",
       "      <td>0.458</td>\n",
       "      <td>6.998</td>\n",
       "      <td>45.8</td>\n",
       "      <td>6.0622</td>\n",
       "      <td>3</td>\n",
       "      <td>222.0</td>\n",
       "      <td>18.7</td>\n",
       "      <td>394.63</td>\n",
       "      <td>2.94</td>\n",
       "      <td>33.4</td>\n",
       "    </tr>\n",
       "    <tr>\n",
       "      <th>4</th>\n",
       "      <td>0.06905</td>\n",
       "      <td>0.0</td>\n",
       "      <td>2.18</td>\n",
       "      <td>0</td>\n",
       "      <td>0.458</td>\n",
       "      <td>7.147</td>\n",
       "      <td>54.2</td>\n",
       "      <td>6.0622</td>\n",
       "      <td>3</td>\n",
       "      <td>222.0</td>\n",
       "      <td>18.7</td>\n",
       "      <td>396.90</td>\n",
       "      <td>5.33</td>\n",
       "      <td>36.2</td>\n",
       "    </tr>\n",
       "  </tbody>\n",
       "</table>\n",
       "</div>"
      ],
      "text/plain": [
       "      CRIM    ZN  INDUS  CHAS    NOX     RM   AGE     DIS  RAD    TAX  \\\n",
       "0  0.00632  18.0   2.31     0  0.538  6.575  65.2  4.0900    1  296.0   \n",
       "1  0.02731   0.0   7.07     0  0.469  6.421  78.9  4.9671    2  242.0   \n",
       "2  0.02729   0.0   7.07     0  0.469  7.185  61.1  4.9671    2  242.0   \n",
       "3  0.03237   0.0   2.18     0  0.458  6.998  45.8  6.0622    3  222.0   \n",
       "4  0.06905   0.0   2.18     0  0.458  7.147  54.2  6.0622    3  222.0   \n",
       "\n",
       "   PTRATIO       B  LSTAT  MEDV  \n",
       "0     15.3  396.90   4.98  24.0  \n",
       "1     17.8  396.90   9.14  21.6  \n",
       "2     17.8  392.83   4.03  34.7  \n",
       "3     18.7  394.63   2.94  33.4  \n",
       "4     18.7  396.90   5.33  36.2  "
      ]
     },
     "execution_count": 2,
     "metadata": {},
     "output_type": "execute_result"
    }
   ],
   "source": [
    "data = pd.read_csv(\"data/boston.csv\")\n",
    "data.head()"
   ]
  },
  {
   "cell_type": "markdown",
   "metadata": {},
   "source": [
    "Dữ liệu BOSTON: Xây dựng mô hình dự báo medv theo age và lstat. \n",
    "Biết rằng cần chuẩn hóa dữ liệu StandardScaler cho dữ liệu input trên tập training. Dữ liệu sẽ được cắt theo tỉ lệ train:test là 90:10 với random state là 10\n"
   ]
  },
  {
   "cell_type": "code",
   "execution_count": null,
   "metadata": {},
   "outputs": [
    {
     "data": {
      "text/plain": [
       "(np.float64(49.312606628201), 0.5019088013216607)"
      ]
     },
     "execution_count": 3,
     "metadata": {},
     "output_type": "execute_result"
    }
   ],
   "source": [
    "from sklearn.model_selection import train_test_split\n",
    "from sklearn.preprocessing import StandardScaler\n",
    "from sklearn.linear_model import LinearRegression\n",
    "from sklearn.metrics import mean_squared_error, r2_score , mean_absolute_error\n",
    "\n",
    "# Defining the features and target variable\n",
    "X = data[['AGE', 'LSTAT']]\n",
    "y = data['MEDV']\n",
    "\n",
    "# Splitting the data into training and test sets with a ratio of 90:10 and random state of 10\n",
    "X_train, X_test, y_train, y_test = train_test_split(X, y, test_size=0.1, random_state=10)\n",
    "\n",
    "# Standardizing the training data using StandardScaler\n",
    "scaler = StandardScaler()\n",
    "X_train_scaled = scaler.fit_transform(X_train)\n",
    "X_test_scaled = scaler.transform(X_test)\n",
    "\n",
    "# Building a Linear Regression model\n",
    "model = LinearRegression()\n",
    "model.fit(X_train_scaled, y_train)\n",
    "\n",
    "# Making predictions on the test set\n",
    "y_pred = model.predict(X_test_scaled)\n",
    "\n",
    "# Evaluating the model using Mean Squared Error (MSE) and R-squared (R2) metrics\n",
    "mse = mean_squared_error(y_test, y_pred)\n",
    "r2 = r2_score(y_test, y_pred)\n",
    "mae = mean_absolute_error(y_test, y_pred)\n",
    "\n",
    "mse, r2\n"
   ]
  },
  {
   "cell_type": "markdown",
   "metadata": {},
   "source": [
    "**Dự báo giá trị `medv` khi biết `age` = 37.5 và `lstat` = 4.65**\n",
    "\n",
    "a. 28.45479863\n",
    "\n",
    "b. 0.35633368\n",
    "\n",
    "c. 25.45479863\n",
    "\n",
    "d. 29.87462092\n",
    "\n",
    "e. 23.45479863\n",
    "\n",
    "f. 22.45479863\n",
    "\n",
    "g. 29.45479863\n",
    "\n",
    "h. 26.45479863\n",
    "\n",
    "i. 27.45479863\n",
    "\n",
    "j. 24.45479863\n",
    "\n",
    "k. 0.08837772\n"
   ]
  },
  {
   "cell_type": "code",
   "execution_count": 4,
   "metadata": {},
   "outputs": [
    {
     "name": "stderr",
     "output_type": "stream",
     "text": [
      "c:\\Users\\Admin\\AppData\\Local\\Programs\\Python\\Python312\\Lib\\site-packages\\sklearn\\base.py:493: UserWarning: X does not have valid feature names, but StandardScaler was fitted with feature names\n",
      "  warnings.warn(\n"
     ]
    },
    {
     "data": {
      "text/plain": [
       "np.float64(29.454798629362067)"
      ]
     },
     "execution_count": 4,
     "metadata": {},
     "output_type": "execute_result"
    }
   ],
   "source": [
    "# Using the trained model to predict MEDV for given AGE and LSTAT values\n",
    "\n",
    "# Input values for prediction\n",
    "input_data = [[37.5, 4.65]]\n",
    "\n",
    "# Scaling the input data based on the training scaler\n",
    "input_data_scaled = scaler.transform(input_data)\n",
    "\n",
    "# Predicting MEDV using the model\n",
    "medv_prediction = model.predict(input_data_scaled)[0]\n",
    "medv_prediction\n"
   ]
  },
  {
   "cell_type": "markdown",
   "metadata": {},
   "source": [
    "**Phần trăm sự thay đổi của biến phụ thuộc được giải thích bởi các biến độc lập**\n",
    "\n",
    "a. 0.5630979953818331\n",
    "\n",
    "b. 0.4069676937197577\n",
    "\n",
    "c. 0.5019088013216606\n",
    "\n",
    "d. 0.1012807931898763\n",
    "\n",
    "e. 0.2012807931898763\n",
    "\n",
    "f. 0.6012807931898763\n",
    "\n",
    "g. 6.264737108611292\n",
    "\n",
    "h. 0.5480883767100382\n"
   ]
  },
  {
   "cell_type": "code",
   "execution_count": 5,
   "metadata": {},
   "outputs": [
    {
     "data": {
      "text/plain": [
       "0.5019088013216607"
      ]
     },
     "execution_count": 5,
     "metadata": {},
     "output_type": "execute_result"
    }
   ],
   "source": [
    "r2"
   ]
  },
  {
   "cell_type": "markdown",
   "metadata": {},
   "source": [
    "**Hệ số góc của biến độc lập `age` trong mô hình huấn luyện**\n",
    "\n",
    "a. 0.74746824\n",
    "\n",
    "b. 2.04746824\n",
    "\n",
    "c. 5.58919129\n",
    "\n",
    "d. 0.84338848\n",
    "\n",
    "e. 0.64746824\n",
    "\n",
    "f. 31.26170026\n",
    "\n",
    "g. 1.04746824\n",
    "\n",
    "h. 0.94746824\n",
    "\n",
    "i. -38.23018134\n",
    "\n",
    "j. 3.04746824\n",
    "\n",
    "k. 4.04746824\n"
   ]
  },
  {
   "cell_type": "code",
   "execution_count": 6,
   "metadata": {},
   "outputs": [
    {
     "data": {
      "text/plain": [
       "np.float64(0.8433884781639227)"
      ]
     },
     "execution_count": 6,
     "metadata": {},
     "output_type": "execute_result"
    }
   ],
   "source": [
    "age_coefficient = model.coef_[0]\n",
    "age_coefficient"
   ]
  },
  {
   "cell_type": "markdown",
   "metadata": {},
   "source": [
    "**Dòng dữ liệu đầu tiên của tập dữ liệu đầu ra trên tập `train`**\n",
    "\n",
    "a. 33.8\n",
    "\n",
    "b. 24.3\n",
    "\n",
    "c. 15.2\n",
    "\n",
    "d. 16.1\n",
    "\n",
    "e. 24.2\n",
    "\n",
    "f. 12.5\n",
    "\n",
    "g. 22.6\n",
    "\n",
    "h. 43.8\n",
    "\n",
    "i. 23.4\n",
    "\n",
    "j. 19.3\n",
    "\n",
    "k. 22\n",
    "\n"
   ]
  },
  {
   "cell_type": "code",
   "execution_count": 7,
   "metadata": {},
   "outputs": [
    {
     "data": {
      "text/plain": [
       "np.float64(12.5)"
      ]
     },
     "execution_count": 7,
     "metadata": {},
     "output_type": "execute_result"
    }
   ],
   "source": [
    "# Displaying the first value of the target variable (MEDV) in the training set\n",
    "first_train_output = y_train.iloc[0]\n",
    "first_train_output\n"
   ]
  },
  {
   "cell_type": "markdown",
   "metadata": {},
   "source": [
    "**Dòng dữ liệu cuối cùng của tập dữ liệu đầu vào trên tập `train`**\n",
    "\n",
    "a. [-0.21856566, -0.34247973]\n",
    "\n",
    "b. [0.47029208, -0.42936116]\n",
    "\n",
    "c. [0.73699637, -0.86530163]\n",
    "\n",
    "d. [-1.1263776, -1.27320734]\n",
    "\n",
    "e. [-0.01688776, -0.14060317]\n",
    "\n",
    "f. [0.45251179, 0.00237409]\n",
    "\n",
    "g. [0.51493306, 0.2872276]\n",
    "\n",
    "h. [0.95056643, 0.29025424]\n",
    "\n",
    "i. [-0.12001342, 0.13413745]\n",
    "\n",
    "j. [0.9752522, 0.94153844]\n",
    "\n",
    "k. [-1.09437309, -0.00183112]\n"
   ]
  },
  {
   "cell_type": "code",
   "execution_count": 8,
   "metadata": {},
   "outputs": [
    {
     "data": {
      "text/plain": [
       "array([-0.21856566, -0.34247973])"
      ]
     },
     "execution_count": 8,
     "metadata": {},
     "output_type": "execute_result"
    }
   ],
   "source": [
    "# Displaying the last row of the input training set after scaling\n",
    "last_train_input = X_train_scaled[-1]\n",
    "last_train_input\n"
   ]
  },
  {
   "cell_type": "markdown",
   "metadata": {},
   "source": [
    "**Hệ số tự do trong mô hình huấn luyện**\n",
    "\n",
    "a. 26.3459616\n",
    "\n",
    "b. 29.3459616\n",
    "\n",
    "c. 31.26170026\n",
    "\n",
    "d. 35.26170026\n",
    "\n",
    "e. 30.26170026\n",
    "\n",
    "f. 28.3459616\n",
    "\n",
    "g. 27.3459616\n",
    "\n",
    "h. 23.3459616\n",
    "\n",
    "i. 24.3459616\n",
    "\n",
    "j. 22.12483516\n",
    "\n",
    "k. 25.3459616\n"
   ]
  },
  {
   "cell_type": "code",
   "execution_count": 9,
   "metadata": {},
   "outputs": [
    {
     "data": {
      "text/plain": [
       "np.float64(22.12483516483517)"
      ]
     },
     "execution_count": 9,
     "metadata": {},
     "output_type": "execute_result"
    }
   ],
   "source": [
    "# Retrieving the intercept (constant term) of the trained linear model\n",
    "intercept = model.intercept_\n",
    "intercept\n"
   ]
  },
  {
   "cell_type": "markdown",
   "metadata": {},
   "source": [
    "**Dòng đầu tiên sau khi chuẩn hóa dữ liệu trên tập `train`**\n",
    "\n",
    "a. [0.52935118, 0.29207022]\n",
    "\n",
    "b. [0.92481977, 0.49424939]\n",
    "\n",
    "c. [0.97880825, 0.91070021]\n",
    "\n",
    "d. [-0.80988851, -1.36151682]\n",
    "\n",
    "e. [-0.35115713, -1.04332233]\n",
    "\n",
    "f. [-0.51117971, -1.02650148]\n",
    "\n",
    "g. [-0.26581176, -1.2087274]\n",
    "\n",
    "h. [0.36716642, -0.49243937]\n",
    "\n",
    "i. [-0.07022862, -0.03126762]\n",
    "\n",
    "j. [0.64160659, 0.09836562]\n",
    "\n",
    "k. [0.96775636, 0.91299676]\n"
   ]
  },
  {
   "cell_type": "code",
   "execution_count": 10,
   "metadata": {},
   "outputs": [
    {
     "data": {
      "text/plain": [
       "array([0.96775636, 0.91299676])"
      ]
     },
     "execution_count": 10,
     "metadata": {},
     "output_type": "execute_result"
    }
   ],
   "source": [
    "# Displaying the first row of the input training set after scaling\n",
    "first_train_input_scaled = X_train_scaled[0]\n",
    "first_train_input_scaled\n"
   ]
  },
  {
   "cell_type": "markdown",
   "metadata": {},
   "source": [
    "**Giá trị MAPE của mô hình trên tập kiểm thử**\n",
    "\n",
    "a. 5.185117026484556\n",
    "\n",
    "b. 4.5918745715026485\n",
    "\n",
    "c. 39.24693104001137\n",
    "\n",
    "d. 0.2547803169337023\n",
    "\n",
    "e. 0.5019088013216606\n",
    "\n",
    "f. 7.02229354471892\n",
    "\n",
    "g. 0.2012807931898763\n",
    "\n",
    "h. 49.31260662820101\n"
   ]
  },
  {
   "cell_type": "code",
   "execution_count": 11,
   "metadata": {},
   "outputs": [
    {
     "data": {
      "text/plain": [
       "np.float64(20.12807931898763)"
      ]
     },
     "execution_count": 11,
     "metadata": {},
     "output_type": "execute_result"
    }
   ],
   "source": [
    "import numpy as np\n",
    "\n",
    "# Calculating Mean Absolute Percentage Error (MAPE) for the model on the test set\n",
    "mape = np.mean(np.abs((y_test - y_pred) / y_test)) * 100\n",
    "mape\n"
   ]
  },
  {
   "cell_type": "markdown",
   "metadata": {},
   "source": [
    "**Kích thước của tập dữ liệu `train`**\n",
    "\n",
    "a. (401, 2)\n",
    "\n",
    "b. (458, 2)\n",
    "\n",
    "c. (404, 2)\n",
    "\n",
    "d. (459, 2)\n",
    "\n",
    "e. (406, 2)\n",
    "\n",
    "f. (457, 2)\n",
    "\n",
    "g. (456, 2)\n",
    "\n",
    "h. (455, 2)\n"
   ]
  },
  {
   "cell_type": "code",
   "execution_count": 12,
   "metadata": {},
   "outputs": [
    {
     "data": {
      "text/plain": [
       "(455, 2)"
      ]
     },
     "execution_count": 12,
     "metadata": {},
     "output_type": "execute_result"
    }
   ],
   "source": [
    "# Displaying the shape of the training dataset\n",
    "train_shape = X_train.shape\n",
    "train_shape\n"
   ]
  }
 ],
 "metadata": {
  "kernelspec": {
   "display_name": "Python 3",
   "language": "python",
   "name": "python3"
  },
  "language_info": {
   "codemirror_mode": {
    "name": "ipython",
    "version": 3
   },
   "file_extension": ".py",
   "mimetype": "text/x-python",
   "name": "python",
   "nbconvert_exporter": "python",
   "pygments_lexer": "ipython3",
   "version": "3.12.5"
  }
 },
 "nbformat": 4,
 "nbformat_minor": 2
}
